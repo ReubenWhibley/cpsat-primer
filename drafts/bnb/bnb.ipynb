{
 "cells": [
  {
   "cell_type": "code",
   "execution_count": 1,
   "metadata": {},
   "outputs": [],
   "source": [
    "from bnb import Instance, Item, BnBSearch, SearchStrategy, RelaxationSolver, BranchingStrategy, BnBNode"
   ]
  },
  {
   "cell_type": "code",
   "execution_count": 2,
   "metadata": {},
   "outputs": [],
   "source": [
    "instance = Instance([Item(1, 1), Item(2, 1), Item(3, 1), Item(4, 1), Item(5, 1), Item(6, 1), Item(7, 1), Item(8, 1), Item(9, 1), Item(10, 1)], 20)\n",
    "solver = RelaxationSolver()\n",
    "branching_strategy = BranchingStrategy()\n",
    "#search_strategy = SearchStrategy(lambda node: -node.depth)\n",
    "search_strategy = SearchStrategy(lambda node: -node.relaxed_solution.value())\n",
    "bnb = BnBSearch(instance, relaxation=solver, search_strategy=search_strategy, branching_strategy=branching_strategy)\n"
   ]
  },
  {
   "cell_type": "code",
   "execution_count": 3,
   "metadata": {},
   "outputs": [
    {
     "name": "stdout",
     "output_type": "stream",
     "text": [
      "Nodes\tDepth\tStatus\t\tValue\tUB\tLB\n",
      "0/1\t-\t-\t\t-\t5.8\t-inf\n",
      "1/3\t0\tbranched \t6\t5.8\t5.0\n",
      "2/5\t1\tbranched \t6\t5.8\t5.0\n",
      "3/7\t2\tbranched \t6\t5.7\t5.0\n",
      "4/9\t1\tbranched \t6\t5.7\t5.0\n",
      "5/11\t3\tbranched \t6\t5.6\t5.0\n",
      "6/13\t2\tbranched \t6\t5.6\t5.0\n",
      "7/15\t2\tbranched \t6\t5.6\t5.0\n",
      "8/17\t2\tbranched \t6\t5.6\t5.0\n",
      "9/19\t3\tbranched \t6\t5.5\t5.0\n",
      "10/21\t4\tbranched \t6\t5.5\t5.0\n",
      "11/23\t3\tbranched \t6\t5.5\t5.0\n",
      "12/25\t3\tbranched \t6\t5.5\t5.0\n",
      "13/27\t4\tbranched \t6\t5.4\t5.0\n",
      "14/29\t4\tbranched \t5\t5.4\t5.0\n",
      "15/31\t3\tbranched \t5\t5.4\t5.0\n",
      "16/33\t3\tbranched \t5\t5.4\t5.0\n",
      "17/35\t5\tbranched \t5\t5.4\t5.0\n",
      "18/37\t3\tbranched \t5\t5.4\t5.0\n",
      "19/39\t4\tbranched \t5\t5.3\t5.0\n",
      "20/41\t4\tbranched \t5\t5.3\t5.0\n",
      "21/43\t4\tbranched \t5\t5.3\t5.0\n",
      "22/45\t5\tbranched \t5\t5.3\t5.0\n",
      "23/47\t5\tbranched \t5\t5.2\t5.0\n",
      "24/49\t3\tbranched \t5\t5.2\t5.0\n",
      "25/51\t4\tbranched \t5\t5.2\t5.0\n",
      "26/53\t4\tbranched \t5\t5.2\t5.0\n",
      "27/55\t4\tbranched \t5\t5.2\t5.0\n",
      "28/57\t4\tbranched \t5\t5.2\t5.0\n",
      "29/59\t5\tbranched \t5\t5.1\t5.0\n",
      "30/61\t5\tbranched \t5\t5.0\t5.0\n",
      "31/61\t4\tpruned   \t5\t5.0\t5.0\n",
      "32/61\t5\tpruned   \t5\t5.0\t5.0\n",
      "33/61\t5\tpruned   \t5\t5.0\t5.0\n",
      "34/61\t4\tpruned   \t5\t5.0\t5.0\n",
      "35/61\t5\tpruned   \t5\t5.0\t5.0\n",
      "36/61\t5\tpruned   \t5\t5.0\t5.0\n",
      "37/61\t6\tpruned   \t5\t5.0\t5.0\n",
      "38/61\t5\tpruned   \t5\t5.0\t5.0\n",
      "39/61\t5\tpruned   \t5\t5.0\t5.0\n",
      "40/61\t6\tpruned   \t5\t5.0\t5.0\n",
      "41/61\t6\tpruned   \t5\t5.0\t5.0\n",
      "42/61\t4\tpruned   \t5\t5.0\t5.0\n",
      "43/61\t4\tpruned   \t5\t5.0\t5.0\n",
      "44/61\t5\tpruned   \t5\t5.0\t5.0\n",
      "45/61\t5\tpruned   \t5\t5.0\t5.0\n",
      "46/61\t5\tpruned   \t5\t5.0\t5.0\n",
      "47/61\t5\tpruned   \t5\t5.0\t5.0\n",
      "48/61\t6\tpruned   \t5\t5.0\t5.0\n",
      "49/61\t6\tpruned   \t5\t4.7\t5.0\n",
      "50/61\t5\tpruned   \t5\t4.7\t5.0\n",
      "51/61\t4\tpruned   \t5\t4.5\t5.0\n",
      "52/61\t4\tpruned   \t4\t4.3\t5.0\n",
      "53/61\t6\tpruned   \t4\t4.3\t5.0\n",
      "54/61\t5\tpruned   \t4\t4.0\t5.0\n",
      "55/61\t5\tpruned   \t4\t4.0\t5.0\n",
      "56/61\t6\tpruned   \t4\t4.0\t5.0\n",
      "57/61\t5\tpruned   \t4\t3.5\t5.0\n",
      "58/61\t6\tpruned   \t4\t3.0\t5.0\n",
      "59/61\t6\tpruned   \t3\t3.0\t5.0\n",
      "60/61\t5\tpruned   \t3\t3.0\t5.0\n",
      "61/61\t6\tpruned   \t3\t5.0\t5.0\n"
     ]
    },
    {
     "data": {
      "text/plain": [
       "'[1|1|1|1|1|0|0|0|0|0]'"
      ]
     },
     "execution_count": 3,
     "metadata": {},
     "output_type": "execute_result"
    }
   ],
   "source": [
    "sol = bnb.search()\n",
    "str(sol)"
   ]
  },
  {
   "cell_type": "code",
   "execution_count": 4,
   "metadata": {},
   "outputs": [
    {
     "data": {
      "text/plain": [
       "5.0"
      ]
     },
     "execution_count": 4,
     "metadata": {},
     "output_type": "execute_result"
    }
   ],
   "source": [
    "sol.value()"
   ]
  }
 ],
 "metadata": {
  "kernelspec": {
   "display_name": "mo",
   "language": "python",
   "name": "python3"
  },
  "language_info": {
   "codemirror_mode": {
    "name": "ipython",
    "version": 3
   },
   "file_extension": ".py",
   "mimetype": "text/x-python",
   "name": "python",
   "nbconvert_exporter": "python",
   "pygments_lexer": "ipython3",
   "version": "3.8.10"
  },
  "orig_nbformat": 4
 },
 "nbformat": 4,
 "nbformat_minor": 2
}
